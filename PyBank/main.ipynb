{
 "cells": [
  {
   "cell_type": "code",
   "execution_count": 1,
   "id": "d3b4f01a",
   "metadata": {},
   "outputs": [
    {
     "data": {
      "text/plain": [
       "'\\nFintech Bootcamp Module 2 Challenge:\\n\\nYour task is to create a Python script that analyzes the records to calculate each of the following:\\n\\n    The total number of months included in the dataset\\n\\n    The net total amount of Profit/Losses over the entire period\\n\\n    The average of the changes in Profit/Losses over the entire period\\n\\n    The greatest increase in profits (date and amount) over the entire period\\n\\n    The greatest decrease in losses (date and amount) over the entire period\\n\\nYour final script should print the analysis to the terminal and export a text file with the results.\\n'"
      ]
     },
     "execution_count": 1,
     "metadata": {},
     "output_type": "execute_result"
    }
   ],
   "source": [
    "\"\"\"\n",
    "Fintech Bootcamp Module 2 Challenge:\n",
    "\n",
    "Your task is to create a Python script that analyzes the records to calculate each of the following:\n",
    "\n",
    "    The total number of months included in the dataset\n",
    "\n",
    "    The net total amount of Profit/Losses over the entire period\n",
    "\n",
    "    The average of the changes in Profit/Losses over the entire period\n",
    "\n",
    "    The greatest increase in profits (date and amount) over the entire period\n",
    "\n",
    "    The greatest decrease in losses (date and amount) over the entire period\n",
    "\n",
    "Your final script should print the analysis to the terminal and export a text file with the results.\n",
    "\"\"\""
   ]
  },
  {
   "cell_type": "code",
   "execution_count": 2,
   "id": "b08c102b",
   "metadata": {},
   "outputs": [],
   "source": [
    "# Import the pathlib and csv library\n",
    "from pathlib import Path\n",
    "import csv"
   ]
  },
  {
   "cell_type": "code",
   "execution_count": 3,
   "id": "bd8972b9",
   "metadata": {},
   "outputs": [],
   "source": [
    "# Set the file path\n",
    "csvpath = Path('./budget_data.csv')"
   ]
  },
  {
   "cell_type": "code",
   "execution_count": 4,
   "id": "8435ba96",
   "metadata": {},
   "outputs": [],
   "source": [
    "# Initialize variables\n",
    "number_of_months = 0\n",
    "total_sum = 0\n",
    "greatest_profit = 0\n",
    "greatest_loss = 0"
   ]
  },
  {
   "cell_type": "code",
   "execution_count": 5,
   "id": "f9023bac",
   "metadata": {},
   "outputs": [],
   "source": [
    "# Open the csv file as an object\n",
    "with open(csvpath, 'r') as csvfile:\n",
    "    \n",
    "    # Pass in the csv file to the csv.reader() function\n",
    "    # (with ',' as the delmiter/separator) and return the csvreader object\n",
    "    csvreader = csv.reader(csvfile, delimiter=',')\n",
    "    \n",
    "    # Read the header row first (skip this step if there is no header)\n",
    "    csv_header = next(csvreader)\n",
    "    \n",
    "    # Print the header as a check\n",
    "    # print(csv_header)\n",
    "    \n",
    "    for row in csvreader:\n",
    "        # Each row is a month, so increment the month counter by 1\n",
    "        number_of_months += 1\n",
    "        # Add the profit/loss to the total\n",
    "        total_sum += int(row[1])\n",
    "        # Determine if it's the greatest profit month, noting the month\n",
    "        if int(row[1]) > greatest_profit:\n",
    "            greatest_profit = int(row[1])\n",
    "            greatest_profit_month = row[0]\n",
    "        # Determine if it's the greatest loss month, noting the month\n",
    "        if int(row[1]) < greatest_loss:\n",
    "            greatest_loss = int(row[1])\n",
    "            greatest_loss_month = row[0]\n",
    "        \n",
    "    # Calculate the average\n",
    "    average_change = round(total_sum / number_of_months, 2)"
   ]
  },
  {
   "cell_type": "code",
   "execution_count": 6,
   "id": "f27e2051",
   "metadata": {},
   "outputs": [
    {
     "name": "stdout",
     "output_type": "stream",
     "text": [
      "Financial Analysis\n",
      "----------------------------\n",
      "Total Months: 86\n",
      "Total: 38382578\n",
      "Average Change: 446309.05\n",
      "Greatest Increase in Profits: Feb-2012 ($1170593)\n",
      "Greatest Decrease in Profits: Sep-2013 ($-1196225)\n"
     ]
    }
   ],
   "source": [
    "# Print the results to the terminal\n",
    "print(\"Financial Analysis\")\n",
    "print(\"----------------------------\")\n",
    "print(f\"Total Months: {number_of_months}\")\n",
    "print(f\"Total: {total_sum}\")\n",
    "print(f\"Average Change: {average_change}\")\n",
    "print(f\"Greatest Increase in Profits: {greatest_profit_month} (${greatest_profit})\")\n",
    "print(f\"Greatest Decrease in Profits: {greatest_loss_month} (${greatest_loss})\")"
   ]
  },
  {
   "cell_type": "code",
   "execution_count": 7,
   "id": "acb9f652",
   "metadata": {},
   "outputs": [],
   "source": [
    "# Save the results as a txt file\n",
    "\n",
    "# Specify the file path\n",
    "output_path = Path('financial_analysis.txt')\n",
    "\n",
    "# Write to the file\n",
    "with open(output_path, 'w') as txt_file:\n",
    "    txt_file.write(\"Financial Analysis\\n\")\n",
    "    txt_file.write(\"----------------------------\\n\")\n",
    "    txt_file.write(f\"Total Months: {number_of_months}\\n\")\n",
    "    txt_file.write(f\"Total: {total_sum}\\n\")\n",
    "    txt_file.write(f\"Average Change: {average_change}\\n\")\n",
    "    txt_file.write(f\"Greatest Increase in Profits: {greatest_profit_month} (${greatest_profit})\\n\")\n",
    "    txt_file.write(f\"Greatest Decrease in Profits: {greatest_loss_month} (${greatest_loss})\")"
   ]
  }
 ],
 "metadata": {
  "kernelspec": {
   "display_name": "Python 3 (ipykernel)",
   "language": "python",
   "name": "python3"
  },
  "language_info": {
   "codemirror_mode": {
    "name": "ipython",
    "version": 3
   },
   "file_extension": ".py",
   "mimetype": "text/x-python",
   "name": "python",
   "nbconvert_exporter": "python",
   "pygments_lexer": "ipython3",
   "version": "3.11.4"
  }
 },
 "nbformat": 4,
 "nbformat_minor": 5
}
