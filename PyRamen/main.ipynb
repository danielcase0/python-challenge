{
 "cells": [
  {
   "cell_type": "code",
   "execution_count": 1,
   "id": "394a55d4",
   "metadata": {},
   "outputs": [
    {
     "data": {
      "text/plain": [
       "'\\nModule 2 Challenge\\n'"
      ]
     },
     "execution_count": 1,
     "metadata": {},
     "output_type": "execute_result"
    }
   ],
   "source": [
    "\"\"\"\n",
    "Module 2 Challenge\n",
    "\"\"\""
   ]
  },
  {
   "cell_type": "code",
   "execution_count": 2,
   "id": "a0eca92e",
   "metadata": {},
   "outputs": [],
   "source": [
    "# @TODO: Import libraries\n",
    "from pathlib import Path\n",
    "import csv"
   ]
  },
  {
   "cell_type": "code",
   "execution_count": 3,
   "id": "52ffd97f",
   "metadata": {},
   "outputs": [],
   "source": [
    "# @TODO: Initialize list objects to hold our menu and sales data\n",
    "menu = []\n",
    "sales = []"
   ]
  },
  {
   "cell_type": "code",
   "execution_count": 4,
   "id": "c752a3b8",
   "metadata": {},
   "outputs": [],
   "source": [
    "# @TODO: Read in the menu data into the menu list\n",
    "\n",
    "# Set the file path\n",
    "csvpath_menu_data = Path('./menu_data.csv')\n",
    "\n",
    "# Open the csv file as an object\n",
    "with open(csvpath_menu_data, 'r') as csvfile_menu_data:\n",
    "    \n",
    "    # Pass in the csv file to the csv.reader() function\n",
    "    # (with ',' as the delmiter/separator) and return the csvreader object\n",
    "    csvreader = csv.reader(csvfile_menu_data, delimiter=',')\n",
    "    \n",
    "    # Read the header row first (skip this step if there is no header)\n",
    "    csv_header = next(csvreader)\n",
    "    \n",
    "    # Loop over the rest of the rows and append each to the menu list\n",
    "    for row in csvreader:\n",
    "        menu.append(row)"
   ]
  },
  {
   "cell_type": "code",
   "execution_count": 5,
   "id": "934241db",
   "metadata": {},
   "outputs": [],
   "source": [
    "# @TODO: Read in the sales data into the sales list\n",
    "\n",
    "# Set the file path\n",
    "csvpath_sales_data = Path('./sales_data.csv')\n",
    "\n",
    "# Open the csv file as an object\n",
    "with open(csvpath_sales_data, 'r') as csvfile_sales_data:\n",
    "    \n",
    "    # Pass in the csv file to the csv.reader() function\n",
    "    # (with ',' as the delmiter/separator) and return the csvreader object\n",
    "    csvreader = csv.reader(csvfile_sales_data, delimiter=',')\n",
    "    \n",
    "    # Read the header row first (skip this step if there is no header)\n",
    "    csv_header = next(csvreader)\n",
    "    \n",
    "    # Loop over the rest of the rows and append each to the menu list\n",
    "    for row in csvreader:\n",
    "        sales.append(row)"
   ]
  },
  {
   "cell_type": "code",
   "execution_count": 6,
   "id": "da683950",
   "metadata": {},
   "outputs": [],
   "source": [
    "# @TODO: Initialize dict object to hold our key-value pairs of items and metrics\n",
    "report = {}"
   ]
  },
  {
   "cell_type": "code",
   "execution_count": 7,
   "id": "66152078",
   "metadata": {},
   "outputs": [],
   "source": [
    "# NOTE: The instructions call for a nested loop, but I don't want to make a nested loop, because it's not necessary and it's bad for time complexity\n",
    "# A nested loop is O(n^2), but two loops is O(n)\n",
    "\n",
    "# NOTE: The instructions also call for starting from the sales data, but the result is going to be a dictionary of things that have sold as opposed to things that are offered\n",
    "# The point of the exercise is to be able to identify which items are selling well\n",
    "# From the prompt:\n",
    "# This year, you also want to analyze how well your business did on a per-product basis (as you have several choices of ramen)\n",
    "# in order to better understand which products are doing well, which are doing poorly, and, ultimately, which products may need to be removed or changed.\n",
    "\n",
    "# Consequently, the first loop will be from the MENU data, because this will create entries for every item on the menu instead of only the things that have sold\n",
    "# @TODO: Loop over every row in the menu list object\n",
    "for menu_row in menu:\n",
    "    \n",
    "    # Item, Category, Description, Price, Cost\n",
    "    # Initialize menu data variables\n",
    "    menu_row_item = menu_row[0]\n",
    "    menu_row_price = round(float(menu_row[3]),2)\n",
    "    menu_row_cost = round(float(menu_row[4]),2)\n",
    "    # @TODO: Calculate profit of each item in the menu data\n",
    "    menu_row_profit = menu_row_price - menu_row_cost\n",
    "    \n",
    "    # @TODO:\n",
    "    # If the item value not in the report, add it as a new entry with initialized metrics\n",
    "    # Naming convention allows the keys to be ordered in logical fashion, count, revenue, cost, profit\n",
    "    \n",
    "    # Check if the menu item exists in the report\n",
    "    # This will add all items on the menu to the report, even if they have no sales\n",
    "    try:\n",
    "        report[menu_row_item]\n",
    "    # If not, add it to the report dictionary, initializing the values as zero\n",
    "    except:\n",
    "        report[menu_row_item] = {\"01-count\": int(0),\"02-revenue\": 0,\"03-cogs\": 0,\"04-profit\": 0}\n",
    "#        print(report)"
   ]
  },
  {
   "cell_type": "code",
   "execution_count": 8,
   "id": "2030a50a",
   "metadata": {},
   "outputs": [],
   "source": [
    "# @TODO: Loop over every row in the sales list object\n",
    "for sales_row in sales:\n",
    "    # Line_Item_ID, Date, Credit_Card_Number, Quantity, Menu_Item\n",
    "    # @TODO: Initialize sales data variables\n",
    "    sales_row_line_item_id = int(sales_row[0])\n",
    "    sales_row_date = sales_row[1]\n",
    "    sales_row_credit_card_number = sales_row[2]\n",
    "    sales_row_quantity = int(sales_row[3])\n",
    "    sales_row_menu_item = sales_row[4]\n",
    "\n",
    "    # @TODO: If the item value in our sales data is equal to the any of the items in the menu, then begin tracking metrics for that item\n",
    "    # @TODO: Cumulatively add up the metrics for each item key\n",
    "    \n",
    "    # NOTE: The try/except syntax will catch if something was sold that wasn't originally on the menu\n",
    "    try:\n",
    "        report[sales_row_menu_item][\"01-count\"] += sales_row_quantity\n",
    "        report[sales_row_menu_item][\"02-revenue\"] += menu_row_price * sales_row_quantity\n",
    "        report[sales_row_menu_item][\"03-cogs\"] += menu_row_cost * sales_row_quantity\n",
    "        report[sales_row_menu_item][\"04-profit\"] += menu_row_profit * sales_row_quantity\n",
    "    except:\n",
    "        print(f\"{sales_row_menu_item} was not on the menu!\")"
   ]
  },
  {
   "cell_type": "code",
   "execution_count": 9,
   "id": "490f6fd5",
   "metadata": {},
   "outputs": [],
   "source": [
    "# Specify the output file path\n",
    "output_path = Path('sales_report.txt')"
   ]
  },
  {
   "cell_type": "code",
   "execution_count": 10,
   "id": "80ed502d",
   "metadata": {},
   "outputs": [
    {
     "name": "stdout",
     "output_type": "stream",
     "text": [
      "nagomi shoyu {'01-count': 9132, '02-revenue': 54792.0, '03-cogs': 27396.0, '04-profit': 27396.0}\n",
      "shio ramen {'01-count': 9180, '02-revenue': 55080.0, '03-cogs': 27540.0, '04-profit': 27540.0}\n",
      "spicy miso ramen {'01-count': 9238, '02-revenue': 55428.0, '03-cogs': 27714.0, '04-profit': 27714.0}\n",
      "vegetarian spicy miso {'01-count': 9216, '02-revenue': 55296.0, '03-cogs': 27648.0, '04-profit': 27648.0}\n",
      "miso crab ramen {'01-count': 8890, '02-revenue': 53340.0, '03-cogs': 26670.0, '04-profit': 26670.0}\n",
      "soft-shell miso crab ramen {'01-count': 9130, '02-revenue': 54780.0, '03-cogs': 27390.0, '04-profit': 27390.0}\n",
      "tori paitan ramen {'01-count': 9156, '02-revenue': 54936.0, '03-cogs': 27468.0, '04-profit': 27468.0}\n",
      "tonkotsu ramen {'01-count': 9288, '02-revenue': 55728.0, '03-cogs': 27864.0, '04-profit': 27864.0}\n",
      "burnt garlic tonkotsu ramen {'01-count': 9070, '02-revenue': 54420.0, '03-cogs': 27210.0, '04-profit': 27210.0}\n",
      "vegetarian curry + king trumpet mushroom ramen {'01-count': 8824, '02-revenue': 52944.0, '03-cogs': 26472.0, '04-profit': 26472.0}\n",
      "truffle butter ramen {'01-count': 8982, '02-revenue': 53892.0, '03-cogs': 26946.0, '04-profit': 26946.0}\n"
     ]
    }
   ],
   "source": [
    "# For every item, including the items on the menu that weren't sold:\n",
    "\"\"\"\n",
    "with open(output_path, 'w') as txt_file:\n",
    "    for item in report:\n",
    "        # Print the results to the terminal\n",
    "        print(item, report[item])\n",
    "        # Save the results to the txt file\n",
    "        txt_file.write(f\"{item} {report[item]}\\n\")\n",
    "\"\"\"\n",
    "\n",
    "# For only the items that sold:\n",
    "with open(output_path, 'w') as txt_file:\n",
    "    for item in report:\n",
    "        if report[item]['01-count'] > 0:\n",
    "            # Print the results to the terminal\n",
    "            print(item, report[item])\n",
    "            # Save the results to the txt file\n",
    "            txt_file.write(f\"{item} {report[item]}\\n\")"
   ]
  }
 ],
 "metadata": {
  "kernelspec": {
   "display_name": "Python 3 (ipykernel)",
   "language": "python",
   "name": "python3"
  },
  "language_info": {
   "codemirror_mode": {
    "name": "ipython",
    "version": 3
   },
   "file_extension": ".py",
   "mimetype": "text/x-python",
   "name": "python",
   "nbconvert_exporter": "python",
   "pygments_lexer": "ipython3",
   "version": "3.11.4"
  }
 },
 "nbformat": 4,
 "nbformat_minor": 5
}
